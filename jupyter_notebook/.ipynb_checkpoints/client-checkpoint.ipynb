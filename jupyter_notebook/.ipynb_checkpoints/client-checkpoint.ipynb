{
 "cells": [
  {
   "cell_type": "markdown",
   "metadata": {},
   "source": [
    "## Decoupling with SQS and SNS"
   ]
  },
  {
   "cell_type": "markdown",
   "metadata": {},
   "source": [
    "This is a basic CDK TypeScript example that deploys 3 AWS Lambda functions decoupled by Amazon SNS and Amazon SQS. The example also demonstates using Python to put items to Amazon DynamoDB, put object to Amazon S3 and using Amazon SNS message attributes. \n",
    "\n",
    "The first Lambda function integrates with Amazon API Gateway. Messages that are sent to the API Gateway are published using Amazon SNS by fanning out the messages to Amazon SQS queues. The Lambda functions that are associated with the queues process the messages when they are recieved.\n",
    "\n",
    "The invoice Lambda function writes the message to an Amazon S3 bucket, this is saved as an object. The order Lambda function writes messages to a Amazon DynamoDB table this is saved as an item. The Amazon DynamoDB table is partitioned on an accountid attribute and also includes a sort key on the vendorid attribute, together they form the primary key.\n",
    "\n",
    "Additional Lambda functions are deployed to get the order item from Amazon DyanmoDB and the object from the Amazon S3 bucket."
   ]
  },
  {
   "cell_type": "markdown",
   "metadata": {},
   "source": [
    "![architecture](../images/architecture_1.png \"Architecture\")"
   ]
  },
  {
   "cell_type": "markdown",
   "metadata": {},
   "source": [
    "**Jupyter Notebook Scripts**\n",
    "\n",
    "1. The first script posts new orders to the API Gateway. The order is written to an Amazon DyanmoDB table and invoice is written to an Amazon S3 bucket.\n",
    "\n",
    "2. The second script creates a json formatter which is used to render the json output in a readable format.\n",
    "\n",
    "3. The fourth script is used to query items in the Amazon DynamoDB table\n",
    "\n",
    "4. The final script is used to generate a pre-signed url used to get the object from the S3 bucket."
   ]
  },
  {
   "cell_type": "markdown",
   "metadata": {},
   "source": [
    "\n",
    "**Note:** Make sure you set **gwid** to your gateway id using - *gwid = '...'*\n",
    "\n",
    "The first command will write items to the DynamoDB table, the second script will get and item using the primary key. \n",
    "\n",
    "**Post order**"
   ]
  },
  {
   "cell_type": "code",
   "execution_count": null,
   "metadata": {},
   "outputs": [],
   "source": [
    "import boto3, requests, datetime\n",
    "\n",
    "#Set gateway id\n",
    "gwid = '...'\n",
    "\n",
    "url = (f'https://{gwid}.execute-api.ap-southeast-2.amazonaws.com/prod/order')\n",
    "\n",
    "for y in range(2):\n",
    "    for i in range(5):\n",
    "        x = datetime.datetime.now()\n",
    "        accountid = 'a' + str(i)\n",
    "        vendorid = 'v' + str(i)\n",
    "        orderdate = str(x)\n",
    "        coffeetype = 'Short Black'\n",
    "        coffeesize = 'Small'\n",
    "        unitprice = str(4.50 * (i+1))\n",
    "        quantity = str(i+1)\n",
    "\n",
    "        response = requests.post(url,json={'order':{\n",
    "                    'accountid': accountid,\n",
    "                    'vendorid': vendorid,\n",
    "                    'orderdate':orderdate,\n",
    "                    'details':{\n",
    "                        'coffeetype': coffeetype,\n",
    "                        'coffeesize': coffeesize,\n",
    "                        'unitprice': unitprice,\n",
    "                        'quantity': quantity\n",
    "                    }\n",
    "                }\n",
    "            })\n",
    "        print(str(accountid) + ':' + str(vendorid))"
   ]
  },
  {
   "cell_type": "markdown",
   "metadata": {},
   "source": [
    "**json formatter** - The following script create a class display nicely formatted json data"
   ]
  },
  {
   "cell_type": "code",
   "execution_count": null,
   "metadata": {},
   "outputs": [],
   "source": [
    "import json, uuid\n",
    "from IPython.display import display_javascript, display_html, display\n",
    "\n",
    "class RenderJSON(object):\n",
    "    def __init__(self, json_data):\n",
    "        if isinstance(json_data, dict) or isinstance(json_data, list):\n",
    "            self.json_str = json.dumps(json_data)\n",
    "        else:\n",
    "            self.json_str = json_data\n",
    "        self.uuid = str(uuid.uuid4())\n",
    "\n",
    "    def _ipython_display_(self):\n",
    "        display_html('<div id=\"{}\" style=\"height: 600px; width:100%;font: 12px/18px monospace !important;\"></div>'.format(self.uuid), raw=True)\n",
    "        display_javascript(\"\"\"\n",
    "        require([\"https://rawgit.com/caldwell/renderjson/master/renderjson.js\"], function() {\n",
    "            renderjson.set_show_to_level(2);\n",
    "            document.getElementById('%s').appendChild(renderjson(%s))\n",
    "        });\n",
    "      \"\"\" % (self.uuid, self.json_str), raw=True)"
   ]
  },
  {
   "cell_type": "markdown",
   "metadata": {},
   "source": [
    "**Get Order** from Amazon DynamoDB using the primary key (accountid & vendorid)"
   ]
  },
  {
   "cell_type": "code",
   "execution_count": null,
   "metadata": {},
   "outputs": [],
   "source": [
    "url = (f'https://{gwid}.execute-api.ap-southeast-2.amazonaws.com/prod/order')\n",
    "\n",
    "response_get = requests.get(url, params={'accountid':'a0','vendorid':'v0'})\n",
    "\n",
    "RenderJSON(response_get.json())"
   ]
  },
  {
   "cell_type": "markdown",
   "metadata": {},
   "source": [
    "**Get Invoice** by generating pre-signed url. Use the link to view object."
   ]
  },
  {
   "cell_type": "code",
   "execution_count": null,
   "metadata": {},
   "outputs": [],
   "source": [
    "url = (f'https://{gwid}.execute-api.ap-southeast-2.amazonaws.com/prod/invoice')\n",
    "\n",
    "response_get = requests.get(url, params={'accountid':'a0'})\n",
    "\n",
    "print(response_get.json())"
   ]
  },
  {
   "cell_type": "code",
   "execution_count": null,
   "metadata": {},
   "outputs": [],
   "source": []
  }
 ],
 "metadata": {
  "kernelspec": {
   "display_name": "Python 3",
   "language": "python",
   "name": "python3"
  },
  "language_info": {
   "codemirror_mode": {
    "name": "ipython",
    "version": 3
   },
   "file_extension": ".py",
   "mimetype": "text/x-python",
   "name": "python",
   "nbconvert_exporter": "python",
   "pygments_lexer": "ipython3",
   "version": "3.8.5"
  }
 },
 "nbformat": 4,
 "nbformat_minor": 4
}
