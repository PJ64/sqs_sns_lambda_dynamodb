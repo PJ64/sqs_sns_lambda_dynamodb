{
 "cells": [
  {
   "cell_type": "markdown",
   "metadata": {},
   "source": [
    "## Decoupling with SQS and SNS"
   ]
  },
  {
   "cell_type": "markdown",
   "metadata": {},
   "source": [
    "The deployed architecture decouples the Lambda functions from each other by using Amazon SQS and Amazon SNS. The Amazon API Gateway integrates with a Lambda function, which accepts an order that is posted by the client. The function extracts the body from the event and publishes it as a message to an Amazon SNS topic.\n",
    "\n",
    "The SNS topic sends the published message to a couple of Amazon SQS queues, which are subscribers. The Lambda functions associated with each queue is invoked when the message arrives in the queue.\n",
    "\n",
    "The invoice Lambda function writes the message to an Amazon S3 bucket, this is saved as an object. \n",
    "\n",
    "The order Lambda function writes messages to an Amazon DynamoDB table, this is saved as an item. The Amazon DynamoDB table is partitioned on an accountid attribute and also includes a sort key on the vendorid attribute, together they form the primary key.\n",
    "\n",
    "Additional Lambda functions are deployed to get the order item from Amazon DynamoDB and the object from the Amazon S3 bucket.\n",
    "\n",
    "Observability has also been built into the architecture with X-Ray instrumentation and CloudWatch Lambda Insights Extensions. \n"
   ]
  },
  {
   "cell_type": "markdown",
   "metadata": {},
   "source": [
    "![architecture](../images/architecture_1.png \"Architecture\")"
   ]
  },
  {
   "cell_type": "markdown",
   "metadata": {},
   "source": [
    "### Jupyter Notebook Scripts\n",
    "\n",
    "1.\tThe first step in the demonstration is to enable X-Ray tracing on the API\n",
    "\n",
    "\n",
    "2.\tThe first script posts new orders to the API Gateway. The order is written to an Amazon DynamoDB table and invoice is written to an Amazon S3 bucket.\n",
    "\n",
    "\n",
    "3.\tThe second script creates a json formatter which is used to render the json output in a readable format.\n",
    "\n",
    "\n",
    "4.\tThe third script is used to query items in the Amazon DynamoDB table.\n",
    "\n",
    "\n",
    "5.\tThe fourth script is used to generate a pre-signed URL used to get the object from the S3 bucket.\n",
    "\n",
    "\n",
    "6.\tOpen X-Ray to view the end to end trace. The trace will highlight any latency or errors.\n",
    "\n",
    "\n",
    "7.\tOpen Lambda insights and view the performance monitoring metrics captured by the CloudWatch Insights Extension. "
   ]
  },
  {
   "cell_type": "markdown",
   "metadata": {},
   "source": [
    "### Task 1 - Enable Tracing\n",
    "Navigate to the sqs_sns_lambda_dynamodb API and check the box to Enable X-Ray Tracing on the prod stage. Make sure you Save Changes.\n",
    "\n",
    "![feature](../images/feature_1.png \" feature \")\n"
   ]
  },
  {
   "cell_type": "markdown",
   "metadata": {},
   "source": [
    "### Task 2 – POST New Order\n",
    "\n",
    "**Set variables**\n",
    "- Make sure you set **gwid** to your gateway id using `gwid = '...'`\n",
    "- Make sure you set **region** to your preferred region using `region = '...'`\n",
    "\n",
    "The script will POST new items to the DynamoDB table, this may take up to 30 seconds to complete."
   ]
  },
  {
   "cell_type": "code",
   "execution_count": null,
   "metadata": {},
   "outputs": [],
   "source": [
    "import boto3, requests, datetime\n",
    "from random import randrange\n",
    "\n",
    "#Set gateway id\n",
    "gwid = '...'\n",
    "\n",
    "#Set your AWS region, e.g. ap-southeast-2\n",
    "region = '...' \n",
    "\n",
    "city_list=[\"Adelaide\",\"Brisbane\",\"Canberra\",\"Darwin\",\"Geelong\",\"Gold Coast\",\"Hobart\",\"Melbourne\",\"Perth\",\"Sydney\",\"Wollongong\"]\n",
    "coffeetype_list=[\"Short Black\",\"Flat White\",\"Latte\",\"Long Black\"]\n",
    "coffeesize_list=[{\"size\":\"Small\",\"price\":\"3.5\"},{\"size\":\"Medium\",\"price\":\"4.0\"},{\"size\":\"Large\",\"price\":\"4.5\"},{\"size\":\"x-Large\",\"price\":\"5.0\"}]\n",
    "\n",
    "url = (f'https://{gwid}.execute-api.{region}.amazonaws.com/prod/order')\n",
    "\n",
    "for i in range(10000): #Increase the counter to generate more cloudwatch metrics data\n",
    "    accountid = 'a' + str(i)\n",
    "    vendorid = 'v' + str(i)\n",
    "    orderdate = str(datetime.datetime.now())\n",
    "    coffeesize = randrange(4)\n",
    "    quantity = randrange(10)+1\n",
    "    city = city_list[randrange(11)]\n",
    "    eventtype=\"new_order\"\n",
    "    response = requests.post(url,json={'order':{\n",
    "            'accountid': accountid,\n",
    "            'orderdate':orderdate,\n",
    "            'vendorid': vendorid,\n",
    "            'city':city,\n",
    "            'details':{\n",
    "                'coffeetype': coffeetype_list[randrange(4)],\n",
    "                'coffeesize': coffeesize_list[coffeesize][\"size\"],\n",
    "                'unitprice': coffeesize_list[coffeesize][\"price\"],\n",
    "                'quantity': quantity\n",
    "            },\n",
    "            'eventtype':[eventtype]\n",
    "        }\n",
    "    })\n",
    "\n",
    "print(response)"
   ]
  },
  {
   "cell_type": "markdown",
   "metadata": {},
   "source": [
    "### Task 3 – JSON Formatter\n",
    "\n",
    "The following script create a class display nicely formatted json data"
   ]
  },
  {
   "cell_type": "code",
   "execution_count": null,
   "metadata": {},
   "outputs": [],
   "source": [
    "import json, uuid\n",
    "from IPython.display import display_javascript, display_html, display\n",
    "\n",
    "class RenderJSON(object):\n",
    "    def __init__(self, json_data):\n",
    "        if isinstance(json_data, dict) or isinstance(json_data, list):\n",
    "            self.json_str = json.dumps(json_data)\n",
    "        else:\n",
    "            self.json_str = json_data\n",
    "        self.uuid = str(uuid.uuid4())\n",
    "\n",
    "    def _ipython_display_(self):\n",
    "        display_html('<div id=\"{}\" style=\"height: 600px; width:100%;font: 12px/18px monospace !important;\"></div>'.format(self.uuid), raw=True)\n",
    "        display_javascript(\"\"\"\n",
    "        require([\"https://rawgit.com/caldwell/renderjson/master/renderjson.js\"], function() {\n",
    "            renderjson.set_show_to_level(2);\n",
    "            document.getElementById('%s').appendChild(renderjson(%s))\n",
    "        });\n",
    "      \"\"\" % (self.uuid, self.json_str), raw=True)"
   ]
  },
  {
   "cell_type": "markdown",
   "metadata": {},
   "source": [
    "### Task 4 – Get Order\n",
    "\n",
    "Run the following script to return a item from Amazon DynamoDB using the primary key (accountid & vendorid)\n"
   ]
  },
  {
   "cell_type": "code",
   "execution_count": null,
   "metadata": {},
   "outputs": [],
   "source": [
    "url = (f'https://{gwid}.execute-api.{region}.amazonaws.com/prod/order')\n",
    "\n",
    "response_get = requests.get(url, params={'accountid':'a0','vendorid':'v0'})\n",
    "\n",
    "RenderJSON(response_get.json())"
   ]
  },
  {
   "cell_type": "markdown",
   "metadata": {},
   "source": [
    "### Task 5 – Get Invoice\n",
    "\n",
    "The following script calls an API endpoint which return a pre-signed URL allowing you to download the invoice from the Amazon S3 without making the bucket public."
   ]
  },
  {
   "cell_type": "code",
   "execution_count": null,
   "metadata": {},
   "outputs": [],
   "source": [
    "url = (f'https://{gwid}.execute-api.{region}.amazonaws.com/prod/invoice')\n",
    "\n",
    "response_get = requests.get(url, params={'accountid':'a0'})\n",
    "\n",
    "print(response_get.json())"
   ]
  },
  {
   "cell_type": "markdown",
   "metadata": {},
   "source": [
    "### Task 6 – X-Ray\n",
    "\n",
    "Open the X-Ray console. The following diagram should resemble the service map. \n",
    "![feature](../images/feature_2.png \" feature \")\n",
    "\n",
    "The sqs_sns_lambda_dynamodb_api Lambda function add **Annotations** relating to order details and **Metadata** related to the execution context.\n",
    "\n",
    "![feature](../images/feature_3.png \" feature \")\n"
   ]
  },
  {
   "cell_type": "markdown",
   "metadata": {},
   "source": [
    "### Task 7 – Lambda Insights\n",
    "Navigate to CloudWatch Lambda Insights and set the **Performance monitoring** to **Multi-function**. You can see from the dashboard the three functions involved in the application vary in duration and resources used. \n",
    "\n",
    "The **sqs_sns_dynamodb_put_object** function, which writes to S3, has not been allocated the same resources as the two other functions, therefore it is slower. However, this does not impact the performance of the other functions because they are communicating asynchronously.\n",
    "\n",
    "Function name: ```sqs_sns_dynamodb_api```\n",
    "Memory: ```512```\n",
    "\n",
    "Function name: ```sqs_sns_dynamodb_put_item```\n",
    "Memory: ```512```\n",
    "SQS Batch size: ```10```\n",
    "\n",
    "Function name: ```sqs_sns_dynamodb_put_object```\n",
    "Memory: ```128```\n",
    "SQS Batch size: ```5```\n",
    "\n"
   ]
  },
  {
   "cell_type": "markdown",
   "metadata": {},
   "source": [
    "**Lambda Insight Errors**\n",
    "\n",
    "If you set the loop counter high enough, 10000+, you will start to see the sqs_sns_dynamodb_put_item function produce errors. The following diagram is take from Lambda Insights.\n",
    "\n",
    "![Lambda_insights](../images/Lambda_insights.png \"Lambda_insights\")\n",
    "\n",
    "**DynamoDB Capacity**\n",
    "\n",
    "The errors are due to the burst thoughput of the DynamoDB table being depleted and with only 5 write capacity units the DynamoDB table is under provisioned.\n",
    "\n",
    "![table_metrics](../images/table_metrics.png \"table_metrics\")\n"
   ]
  },
  {
   "cell_type": "code",
   "execution_count": null,
   "metadata": {},
   "outputs": [],
   "source": []
  }
 ],
 "metadata": {
  "kernelspec": {
   "display_name": "Python 3 (ipykernel)",
   "language": "python",
   "name": "python3"
  },
  "language_info": {
   "codemirror_mode": {
    "name": "ipython",
    "version": 3
   },
   "file_extension": ".py",
   "mimetype": "text/x-python",
   "name": "python",
   "nbconvert_exporter": "python",
   "pygments_lexer": "ipython3",
   "version": "3.8.12"
  }
 },
 "nbformat": 4,
 "nbformat_minor": 4
}
